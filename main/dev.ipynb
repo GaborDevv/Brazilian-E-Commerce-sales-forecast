{
 "cells": [
  {
   "metadata": {},
   "cell_type": "markdown",
   "source": [
    "# Bronze  \n",
    "Data cleaning"
   ],
   "id": "44ae571dd166211a"
  },
  {
   "metadata": {
    "ExecuteTime": {
     "start_time": "2024-09-09T06:41:37.655988Z"
    }
   },
   "cell_type": "code",
   "source": [
    "import os\n",
    "from main.utils import categorize_columns, capitalize_columns, columns_to_datetime\n",
    "from pandas import merge\n",
    "from pandas.core.interchange.dataframe_protocol import DataFrame, Column\n",
    "from pyspark.examples.src.main.python.sql.arrow import dataframe_with_arrow_example\n",
    "from pyspark.sql import SparkSession\n",
    "import pandas as pd\n",
    "import pyarrow\n",
    "import fastparquet"
   ],
   "id": "b4fdb9a76ed0846e",
   "outputs": [],
   "execution_count": 1
  },
  {
   "cell_type": "code",
   "id": "initial_id",
   "metadata": {
    "collapsed": true
   },
   "source": "#park = SparkSession.builder.appName('Sales Forecast App').getOrCreate()",
   "outputs": [],
   "execution_count": null
  },
  {
   "metadata": {},
   "cell_type": "code",
   "source": "",
   "id": "4c7d20f5e5fa666a",
   "outputs": [],
   "execution_count": null
  },
  {
   "metadata": {},
   "cell_type": "code",
   "source": "",
   "id": "cb8a1a133760b1b8",
   "outputs": [],
   "execution_count": null
  },
  {
   "metadata": {},
   "cell_type": "code",
   "source": "",
   "id": "cdb5a7df5d28cda5",
   "outputs": [],
   "execution_count": null
  },
  {
   "metadata": {},
   "cell_type": "markdown",
   "source": "Reading files",
   "id": "aeca66bd2192869c"
  },
  {
   "metadata": {},
   "cell_type": "code",
   "source": [
    "\n",
    "pyspark_file_list = []\n",
    "files_location = '../raw_data'\n",
    "#read the csv files in the location parameterized: '../raw_data'\n",
    "\n",
    "read_my_data(files_location)\n",
    "        \n",
    "data_customers.dtypes"
   ],
   "id": "fe41796a2c44b5b3",
   "outputs": [],
   "execution_count": null
  },
  {
   "metadata": {},
   "cell_type": "markdown",
   "source": "Checking data types",
   "id": "656fd07314a0a8a5"
  },
  {
   "metadata": {
    "ExecuteTime": {
     "end_time": "2024-09-09T06:41:43.782256Z",
     "start_time": "2024-09-09T06:41:41.524627Z"
    }
   },
   "cell_type": "code",
   "source": [
    "files_list = ['../raw_data/olist_customers_dataset.csv',\n",
    "              '../raw_data/olist_order_items_dataset.csv',\n",
    "              '../raw_data/olist_order_payments_dataset.csv',\n",
    "              '../raw_data/olist_orders_dataset.csv',\n",
    "              '../raw_data/olist_products_dataset.csv',\n",
    "              '../raw_data/olist_sellers_dataset.csv',\n",
    "              '../raw_data/product_category_name_translation.csv']\n",
    "df_list = []\n",
    "\n",
    "for file_path in files_list:\n",
    "        # Extract a meaningful identifier from the file path\n",
    "        # This splits the path on '/', takes the last part, and then removes the '.csv' extension\n",
    "        identifier = file_path.split('/')[-1][:-4]\n",
    "\n",
    "        # Convert identifier to a more uniform format if necessary\n",
    "        identifier = identifier.replace('olist_', '').replace('_dataset', '')\n",
    "\n",
    "        var_name = f'data_{identifier}'\n",
    "        # Create a global variable with the name 'data_' followed by the identifier\n",
    "        globals()[var_name] = pd.read_csv(file_path)\n",
    "        \n",
    "        df_list.append(var_name)\n",
    "        # Display the DataFrame name that has been loaded\n",
    "        print(f\"Loaded new DataFrame: data_{identifier}\")\n"
   ],
   "id": "63e7e4675f9d29d4",
   "outputs": [
    {
     "name": "stdout",
     "output_type": "stream",
     "text": [
      "Loaded new DataFrame: data_customers\n",
      "Loaded new DataFrame: data_order_items\n",
      "Loaded new DataFrame: data_order_payments\n",
      "Loaded new DataFrame: data_orders\n",
      "Loaded new DataFrame: data_products\n",
      "Loaded new DataFrame: data_sellers\n",
      "Loaded new DataFrame: data_product_category_name_translation\n"
     ]
    }
   ],
   "execution_count": 3
  },
  {
   "metadata": {
    "ExecuteTime": {
     "end_time": "2024-09-09T06:41:48.005531Z",
     "start_time": "2024-09-09T06:41:47.982139Z"
    }
   },
   "cell_type": "code",
   "source": "data_customers.dtypes",
   "id": "b96f40c77449397c",
   "outputs": [
    {
     "data": {
      "text/plain": [
       "customer_id                 object\n",
       "customer_unique_id          object\n",
       "customer_zip_code_prefix     int64\n",
       "customer_city               object\n",
       "customer_state              object\n",
       "dtype: object"
      ]
     },
     "execution_count": 4,
     "metadata": {},
     "output_type": "execute_result"
    }
   ],
   "execution_count": 4
  },
  {
   "metadata": {
    "ExecuteTime": {
     "end_time": "2024-09-09T06:39:02.653434Z",
     "start_time": "2024-09-09T06:39:02.625689Z"
    }
   },
   "cell_type": "code",
   "source": [
    "for df in df_list:\n",
    "    print(df.dtypes)"
   ],
   "id": "28b2f9a6229da331",
   "outputs": [
    {
     "ename": "AttributeError",
     "evalue": "'str' object has no attribute 'dtypes'",
     "output_type": "error",
     "traceback": [
      "\u001B[1;31m---------------------------------------------------------------------------\u001B[0m",
      "\u001B[1;31mAttributeError\u001B[0m                            Traceback (most recent call last)",
      "Cell \u001B[1;32mIn[20], line 2\u001B[0m\n\u001B[0;32m      1\u001B[0m \u001B[38;5;28;01mfor\u001B[39;00m df \u001B[38;5;129;01min\u001B[39;00m df_list:\n\u001B[1;32m----> 2\u001B[0m     \u001B[38;5;28mprint\u001B[39m(\u001B[43mdf\u001B[49m\u001B[38;5;241;43m.\u001B[39;49m\u001B[43mdtypes\u001B[49m)\n",
      "\u001B[1;31mAttributeError\u001B[0m: 'str' object has no attribute 'dtypes'"
     ]
    }
   ],
   "execution_count": 20
  },
  {
   "metadata": {
    "ExecuteTime": {
     "end_time": "2024-09-09T08:21:11.411125Z",
     "start_time": "2024-09-09T08:21:11.374492Z"
    }
   },
   "cell_type": "code",
   "source": [
    "product_counts = data_products['product_id'].groupby(data_products['product_id']).count()\n",
    "duplicated_product_ids = product_counts[product_counts > 1]\n",
    "duplicated_products = data_products[data_products['product_id'].isin(duplicated_product_ids.index)]\n",
    "print(duplicated_products)"
   ],
   "id": "7ca042f8ca267ac8",
   "outputs": [
    {
     "name": "stdout",
     "output_type": "stream",
     "text": [
      "Empty DataFrame\n",
      "Columns: [product_id, product_category_name, product_name_lenght, product_description_lenght, product_photos_qty, product_weight_g, product_length_cm, product_height_cm, product_width_cm]\n",
      "Index: []\n"
     ]
    }
   ],
   "execution_count": 46
  },
  {
   "metadata": {},
   "cell_type": "markdown",
   "source": [
    "# Cleaning\n",
    "Capitalize customer cities"
   ],
   "id": "90dac59305033e88"
  },
  {
   "metadata": {
    "ExecuteTime": {
     "end_time": "2024-09-09T06:41:53.528712Z",
     "start_time": "2024-09-09T06:41:53.409373Z"
    }
   },
   "cell_type": "code",
   "source": [
    "capitalize_columns(dataframe=data_customers, col_name='customer_city')\n",
    "capitalize_columns(data_sellers, 'seller_city')\n",
    "#data_customers['customer_city'] = data_customers['customer_city'].str.title()\n",
    "#data_sellers['seller_city']=data_sellers['seller_city'].str.title()"
   ],
   "id": "f63310e24613d865",
   "outputs": [],
   "execution_count": 5
  },
  {
   "metadata": {
    "ExecuteTime": {
     "end_time": "2024-09-09T06:40:35.789376Z",
     "start_time": "2024-09-09T06:40:35.774291Z"
    }
   },
   "cell_type": "code",
   "source": "data_sellers['seller_city']",
   "id": "555feb7068f5ac97",
   "outputs": [
    {
     "data": {
      "text/plain": [
       "0                Campinas\n",
       "1              Mogi Guacu\n",
       "2          Rio De Janeiro\n",
       "3               Sao Paulo\n",
       "4       Braganca Paulista\n",
       "              ...        \n",
       "3090              Sarandi\n",
       "3091              Palhoca\n",
       "3092            Sao Paulo\n",
       "3093              Pelotas\n",
       "3094              Taubate\n",
       "Name: seller_city, Length: 3095, dtype: object"
      ]
     },
     "execution_count": 22,
     "metadata": {},
     "output_type": "execute_result"
    }
   ],
   "execution_count": 22
  },
  {
   "metadata": {},
   "cell_type": "code",
   "source": "#pyspark_file_list",
   "id": "2d94a9644a065d21",
   "outputs": [],
   "execution_count": null
  },
  {
   "metadata": {},
   "cell_type": "code",
   "source": "",
   "id": "45b9a85a303237f7",
   "outputs": [],
   "execution_count": null
  },
  {
   "metadata": {},
   "cell_type": "markdown",
   "source": "Parse date column",
   "id": "4db01c1b350af2d6"
  },
  {
   "metadata": {
    "ExecuteTime": {
     "end_time": "2024-09-09T06:42:00.694666Z",
     "start_time": "2024-09-09T06:41:59.720718Z"
    }
   },
   "cell_type": "code",
   "source": [
    "date_columns = [\n",
    "    'order_purchase_timestamp',\n",
    "    'order_approved_at',\n",
    "    'order_delivered_carrier_date',\n",
    "    'order_delivered_customer_date',\n",
    "    'order_estimated_delivery_date'\n",
    "]\n",
    "        \n",
    "columns_to_datetime(data_orders, date_columns)"
   ],
   "id": "1da18b05b700e4d",
   "outputs": [],
   "execution_count": 6
  },
  {
   "metadata": {
    "ExecuteTime": {
     "end_time": "2024-09-09T06:37:28.344964Z",
     "start_time": "2024-09-09T06:37:28.329825Z"
    }
   },
   "cell_type": "code",
   "source": "data_orders.dtypes",
   "id": "e163323a1996af88",
   "outputs": [
    {
     "data": {
      "text/plain": [
       "order_id                                 object\n",
       "customer_id                              object\n",
       "order_status                             object\n",
       "order_purchase_timestamp         datetime64[ns]\n",
       "order_approved_at                datetime64[ns]\n",
       "order_delivered_carrier_date     datetime64[ns]\n",
       "order_delivered_customer_date    datetime64[ns]\n",
       "order_estimated_delivery_date    datetime64[ns]\n",
       "dtype: object"
      ]
     },
     "execution_count": 19,
     "metadata": {},
     "output_type": "execute_result"
    }
   ],
   "execution_count": 19
  },
  {
   "metadata": {
    "ExecuteTime": {
     "end_time": "2024-09-09T06:40:47.737443Z",
     "start_time": "2024-09-09T06:40:47.705081Z"
    }
   },
   "cell_type": "code",
   "source": [
    "data_order_payments.isna().sum()\n",
    "#, , data_order_payments]"
   ],
   "id": "132494a85d42fc90",
   "outputs": [
    {
     "data": {
      "text/plain": [
       "order_id                0\n",
       "payment_sequential      0\n",
       "payment_type            0\n",
       "payment_installments    0\n",
       "payment_value           0\n",
       "dtype: int64"
      ]
     },
     "execution_count": 23,
     "metadata": {},
     "output_type": "execute_result"
    }
   ],
   "execution_count": 23
  },
  {
   "metadata": {},
   "cell_type": "markdown",
   "source": "Change the datatype of Order status and Product category names columns from regular string to categorical variable¶\n",
   "id": "836a7f9c1fbe66a1"
  },
  {
   "metadata": {
    "ExecuteTime": {
     "end_time": "2024-09-09T06:42:24.788089Z",
     "start_time": "2024-09-09T06:42:24.759421Z"
    }
   },
   "cell_type": "code",
   "source": [
    "categorize_columns(data_orders, 'order_status')\n",
    "categorize_columns(data_products,'product_category_name')\n",
    "categorize_columns(data_product_category_name_translation, 'product_category_name')\n",
    "categorize_columns(data_product_category_name_translation, 'product_category_name_english')\n",
    "\n"
   ],
   "id": "a415304bb562af31",
   "outputs": [],
   "execution_count": 8
  },
  {
   "metadata": {},
   "cell_type": "markdown",
   "source": "Join datasets",
   "id": "7f085f5e2710ba78"
  },
  {
   "metadata": {
    "ExecuteTime": {
     "end_time": "2024-09-09T06:43:43.633937Z",
     "start_time": "2024-09-09T06:43:43.578975Z"
    }
   },
   "cell_type": "code",
   "source": [
    "from functools import reduce\n",
    "products = pd.merge(left = data_products, right = data_product_category_name_translation, how = 'left', left_on= data_products.product_category_name, right_on= data_product_category_name_translation.product_category_name).drop(['product_category_name_x', 'key_0'], axis = 1)\n",
    "products = products[['product_id', 'product_category_name_y', 'product_category_name_english']].rename(columns={'product_category_name_y': 'original_category_name','product_category_name_english':'english_category_name'})\n",
    "products.count()"
   ],
   "id": "7ed698cb85a77da0",
   "outputs": [
    {
     "data": {
      "text/plain": [
       "product_id                32951\n",
       "original_category_name    32328\n",
       "english_category_name     32328\n",
       "dtype: int64"
      ]
     },
     "execution_count": 9,
     "metadata": {},
     "output_type": "execute_result"
    }
   ],
   "execution_count": 9
  },
  {
   "metadata": {
    "ExecuteTime": {
     "end_time": "2024-09-09T08:49:43.584530Z",
     "start_time": "2024-09-09T08:49:43.366840Z"
    }
   },
   "cell_type": "code",
   "source": [
    "orders_assist = [data_orders, data_order_items, data_order_payments]\n",
    "#merge, join multiple datasets with the same FK:\n",
    "orders_df = reduce(lambda data1, data2: pd.merge(data1, data2, on='order_id', how='inner'), orders_assist)"
   ],
   "id": "dafa3ea8343b65cc",
   "outputs": [],
   "execution_count": 54
  },
  {
   "metadata": {
    "ExecuteTime": {
     "end_time": "2024-09-09T08:49:45.672877Z",
     "start_time": "2024-09-09T08:49:45.603809Z"
    }
   },
   "cell_type": "code",
   "source": "orders_with_sellers_df = pd.merge(left=orders_df, right=data_sellers, on='seller_id', how='left')",
   "id": "c0d4d1c3e085a1e0",
   "outputs": [],
   "execution_count": 55
  },
  {
   "metadata": {
    "ExecuteTime": {
     "end_time": "2024-09-09T08:49:47.524917Z",
     "start_time": "2024-09-09T08:49:47.331100Z"
    }
   },
   "cell_type": "code",
   "source": "with_customers_df = pd.merge(left=orders_with_sellers_df, right=data_customers, on='customer_id', how='left')",
   "id": "b710c5d15986ee98",
   "outputs": [],
   "execution_count": 56
  },
  {
   "metadata": {},
   "cell_type": "markdown",
   "source": "Join with products and remove where product_id is null",
   "id": "f074ed2f81243cbd"
  },
  {
   "metadata": {},
   "cell_type": "markdown",
   "source": "",
   "id": "e047357128c669ce"
  },
  {
   "metadata": {},
   "cell_type": "markdown",
   "source": "I can drop those orders where we don't have same order_id in data_order_items. These are orders that are unavailable or cancelled",
   "id": "93ebfc278d9c0c1f"
  },
  {
   "metadata": {
    "ExecuteTime": {
     "end_time": "2024-09-09T08:44:38.872953Z",
     "start_time": "2024-09-09T08:44:38.608307Z"
    }
   },
   "cell_type": "code",
   "source": [
    "temp_order = pd.merge(left = data_orders, right=data_order_items, on= 'order_id', how='left')\n",
    "temp_order[temp_order['product_id'].isnull()]\n",
    "\n"
   ],
   "id": "6273ca8100c1ec09",
   "outputs": [
    {
     "data": {
      "text/plain": [
       "                                order_id                       customer_id  \\\n",
       "306     8e24261a7e58791d10cb1bf9da94df5c  64a254d30eed42cd0e6c36dddb88adf0   \n",
       "671     c272bcd21c287498b4883c7512019702  9582c5bbecc65eb568e2c1d839b5cba1   \n",
       "791     37553832a3a89c9b2db59701c357ca67  7607cd563696c27ede287e515812d528   \n",
       "850     d57e15fb07fd180f06ab3926b39edcd2  470b93b3f1cde85550fc74cd3a476c78   \n",
       "1294    00b1cb0320190ca0daa2c88b35206009  3532ba38a3fd242259a514ac2b6ae6b6   \n",
       "...                                  ...                               ...   \n",
       "113204  aaab15da689073f8f9aa978a390a69d1  df20748206e4b865b2f14a5eabbfcf34   \n",
       "113236  3a3cddda5a7c27851bd96c3313412840  0b0d6095c5555fe083844281f6b093bb   \n",
       "113324  a89abace0dcc01eeb267a9660b5ac126  2f0524a7b1b3845a1a57fcf3910c4333   \n",
       "113325  a69ba794cc7deb415c3e15a0a3877e69  726f0894b5becdf952ea537d5266e543   \n",
       "113397  5fabc81b6322c8443648e1b21a6fef21  32c9df889d41b0ee8309a5efb6855dcb   \n",
       "\n",
       "       order_status order_purchase_timestamp   order_approved_at  \\\n",
       "306     unavailable      2017-11-16 15:09:28 2017-11-16 15:26:57   \n",
       "671     unavailable      2018-01-31 11:31:37 2018-01-31 14:23:50   \n",
       "791     unavailable      2017-08-14 17:38:02 2017-08-17 00:15:18   \n",
       "850     unavailable      2018-01-08 19:39:03 2018-01-09 07:26:08   \n",
       "1294       canceled      2018-08-28 15:26:39                 NaT   \n",
       "...             ...                      ...                 ...   \n",
       "113204  unavailable      2018-01-16 14:27:59 2018-01-17 03:37:34   \n",
       "113236     canceled      2018-08-31 16:13:44                 NaT   \n",
       "113324     canceled      2018-09-06 18:45:47                 NaT   \n",
       "113325  unavailable      2017-08-23 16:28:04 2017-08-28 15:44:47   \n",
       "113397  unavailable      2017-10-10 10:50:03 2017-10-14 18:35:57   \n",
       "\n",
       "       order_delivered_carrier_date order_delivered_customer_date  \\\n",
       "306                             NaT                           NaT   \n",
       "671                             NaT                           NaT   \n",
       "791                             NaT                           NaT   \n",
       "850                             NaT                           NaT   \n",
       "1294                            NaT                           NaT   \n",
       "...                             ...                           ...   \n",
       "113204                          NaT                           NaT   \n",
       "113236                          NaT                           NaT   \n",
       "113324                          NaT                           NaT   \n",
       "113325                          NaT                           NaT   \n",
       "113397                          NaT                           NaT   \n",
       "\n",
       "       order_estimated_delivery_date  order_item_id product_id seller_id  \\\n",
       "306                       2017-12-05            NaN        NaN       NaN   \n",
       "671                       2018-02-16            NaN        NaN       NaN   \n",
       "791                       2017-09-05            NaN        NaN       NaN   \n",
       "850                       2018-02-06            NaN        NaN       NaN   \n",
       "1294                      2018-09-12            NaN        NaN       NaN   \n",
       "...                              ...            ...        ...       ...   \n",
       "113204                    2018-02-06            NaN        NaN       NaN   \n",
       "113236                    2018-10-01            NaN        NaN       NaN   \n",
       "113324                    2018-09-27            NaN        NaN       NaN   \n",
       "113325                    2017-09-15            NaN        NaN       NaN   \n",
       "113397                    2017-10-23            NaN        NaN       NaN   \n",
       "\n",
       "       shipping_limit_date  price  freight_value  \n",
       "306                    NaN    NaN            NaN  \n",
       "671                    NaN    NaN            NaN  \n",
       "791                    NaN    NaN            NaN  \n",
       "850                    NaN    NaN            NaN  \n",
       "1294                   NaN    NaN            NaN  \n",
       "...                    ...    ...            ...  \n",
       "113204                 NaN    NaN            NaN  \n",
       "113236                 NaN    NaN            NaN  \n",
       "113324                 NaN    NaN            NaN  \n",
       "113325                 NaN    NaN            NaN  \n",
       "113397                 NaN    NaN            NaN  \n",
       "\n",
       "[775 rows x 14 columns]"
      ],
      "text/html": [
       "<div>\n",
       "<style scoped>\n",
       "    .dataframe tbody tr th:only-of-type {\n",
       "        vertical-align: middle;\n",
       "    }\n",
       "\n",
       "    .dataframe tbody tr th {\n",
       "        vertical-align: top;\n",
       "    }\n",
       "\n",
       "    .dataframe thead th {\n",
       "        text-align: right;\n",
       "    }\n",
       "</style>\n",
       "<table border=\"1\" class=\"dataframe\">\n",
       "  <thead>\n",
       "    <tr style=\"text-align: right;\">\n",
       "      <th></th>\n",
       "      <th>order_id</th>\n",
       "      <th>customer_id</th>\n",
       "      <th>order_status</th>\n",
       "      <th>order_purchase_timestamp</th>\n",
       "      <th>order_approved_at</th>\n",
       "      <th>order_delivered_carrier_date</th>\n",
       "      <th>order_delivered_customer_date</th>\n",
       "      <th>order_estimated_delivery_date</th>\n",
       "      <th>order_item_id</th>\n",
       "      <th>product_id</th>\n",
       "      <th>seller_id</th>\n",
       "      <th>shipping_limit_date</th>\n",
       "      <th>price</th>\n",
       "      <th>freight_value</th>\n",
       "    </tr>\n",
       "  </thead>\n",
       "  <tbody>\n",
       "    <tr>\n",
       "      <th>306</th>\n",
       "      <td>8e24261a7e58791d10cb1bf9da94df5c</td>\n",
       "      <td>64a254d30eed42cd0e6c36dddb88adf0</td>\n",
       "      <td>unavailable</td>\n",
       "      <td>2017-11-16 15:09:28</td>\n",
       "      <td>2017-11-16 15:26:57</td>\n",
       "      <td>NaT</td>\n",
       "      <td>NaT</td>\n",
       "      <td>2017-12-05</td>\n",
       "      <td>NaN</td>\n",
       "      <td>NaN</td>\n",
       "      <td>NaN</td>\n",
       "      <td>NaN</td>\n",
       "      <td>NaN</td>\n",
       "      <td>NaN</td>\n",
       "    </tr>\n",
       "    <tr>\n",
       "      <th>671</th>\n",
       "      <td>c272bcd21c287498b4883c7512019702</td>\n",
       "      <td>9582c5bbecc65eb568e2c1d839b5cba1</td>\n",
       "      <td>unavailable</td>\n",
       "      <td>2018-01-31 11:31:37</td>\n",
       "      <td>2018-01-31 14:23:50</td>\n",
       "      <td>NaT</td>\n",
       "      <td>NaT</td>\n",
       "      <td>2018-02-16</td>\n",
       "      <td>NaN</td>\n",
       "      <td>NaN</td>\n",
       "      <td>NaN</td>\n",
       "      <td>NaN</td>\n",
       "      <td>NaN</td>\n",
       "      <td>NaN</td>\n",
       "    </tr>\n",
       "    <tr>\n",
       "      <th>791</th>\n",
       "      <td>37553832a3a89c9b2db59701c357ca67</td>\n",
       "      <td>7607cd563696c27ede287e515812d528</td>\n",
       "      <td>unavailable</td>\n",
       "      <td>2017-08-14 17:38:02</td>\n",
       "      <td>2017-08-17 00:15:18</td>\n",
       "      <td>NaT</td>\n",
       "      <td>NaT</td>\n",
       "      <td>2017-09-05</td>\n",
       "      <td>NaN</td>\n",
       "      <td>NaN</td>\n",
       "      <td>NaN</td>\n",
       "      <td>NaN</td>\n",
       "      <td>NaN</td>\n",
       "      <td>NaN</td>\n",
       "    </tr>\n",
       "    <tr>\n",
       "      <th>850</th>\n",
       "      <td>d57e15fb07fd180f06ab3926b39edcd2</td>\n",
       "      <td>470b93b3f1cde85550fc74cd3a476c78</td>\n",
       "      <td>unavailable</td>\n",
       "      <td>2018-01-08 19:39:03</td>\n",
       "      <td>2018-01-09 07:26:08</td>\n",
       "      <td>NaT</td>\n",
       "      <td>NaT</td>\n",
       "      <td>2018-02-06</td>\n",
       "      <td>NaN</td>\n",
       "      <td>NaN</td>\n",
       "      <td>NaN</td>\n",
       "      <td>NaN</td>\n",
       "      <td>NaN</td>\n",
       "      <td>NaN</td>\n",
       "    </tr>\n",
       "    <tr>\n",
       "      <th>1294</th>\n",
       "      <td>00b1cb0320190ca0daa2c88b35206009</td>\n",
       "      <td>3532ba38a3fd242259a514ac2b6ae6b6</td>\n",
       "      <td>canceled</td>\n",
       "      <td>2018-08-28 15:26:39</td>\n",
       "      <td>NaT</td>\n",
       "      <td>NaT</td>\n",
       "      <td>NaT</td>\n",
       "      <td>2018-09-12</td>\n",
       "      <td>NaN</td>\n",
       "      <td>NaN</td>\n",
       "      <td>NaN</td>\n",
       "      <td>NaN</td>\n",
       "      <td>NaN</td>\n",
       "      <td>NaN</td>\n",
       "    </tr>\n",
       "    <tr>\n",
       "      <th>...</th>\n",
       "      <td>...</td>\n",
       "      <td>...</td>\n",
       "      <td>...</td>\n",
       "      <td>...</td>\n",
       "      <td>...</td>\n",
       "      <td>...</td>\n",
       "      <td>...</td>\n",
       "      <td>...</td>\n",
       "      <td>...</td>\n",
       "      <td>...</td>\n",
       "      <td>...</td>\n",
       "      <td>...</td>\n",
       "      <td>...</td>\n",
       "      <td>...</td>\n",
       "    </tr>\n",
       "    <tr>\n",
       "      <th>113204</th>\n",
       "      <td>aaab15da689073f8f9aa978a390a69d1</td>\n",
       "      <td>df20748206e4b865b2f14a5eabbfcf34</td>\n",
       "      <td>unavailable</td>\n",
       "      <td>2018-01-16 14:27:59</td>\n",
       "      <td>2018-01-17 03:37:34</td>\n",
       "      <td>NaT</td>\n",
       "      <td>NaT</td>\n",
       "      <td>2018-02-06</td>\n",
       "      <td>NaN</td>\n",
       "      <td>NaN</td>\n",
       "      <td>NaN</td>\n",
       "      <td>NaN</td>\n",
       "      <td>NaN</td>\n",
       "      <td>NaN</td>\n",
       "    </tr>\n",
       "    <tr>\n",
       "      <th>113236</th>\n",
       "      <td>3a3cddda5a7c27851bd96c3313412840</td>\n",
       "      <td>0b0d6095c5555fe083844281f6b093bb</td>\n",
       "      <td>canceled</td>\n",
       "      <td>2018-08-31 16:13:44</td>\n",
       "      <td>NaT</td>\n",
       "      <td>NaT</td>\n",
       "      <td>NaT</td>\n",
       "      <td>2018-10-01</td>\n",
       "      <td>NaN</td>\n",
       "      <td>NaN</td>\n",
       "      <td>NaN</td>\n",
       "      <td>NaN</td>\n",
       "      <td>NaN</td>\n",
       "      <td>NaN</td>\n",
       "    </tr>\n",
       "    <tr>\n",
       "      <th>113324</th>\n",
       "      <td>a89abace0dcc01eeb267a9660b5ac126</td>\n",
       "      <td>2f0524a7b1b3845a1a57fcf3910c4333</td>\n",
       "      <td>canceled</td>\n",
       "      <td>2018-09-06 18:45:47</td>\n",
       "      <td>NaT</td>\n",
       "      <td>NaT</td>\n",
       "      <td>NaT</td>\n",
       "      <td>2018-09-27</td>\n",
       "      <td>NaN</td>\n",
       "      <td>NaN</td>\n",
       "      <td>NaN</td>\n",
       "      <td>NaN</td>\n",
       "      <td>NaN</td>\n",
       "      <td>NaN</td>\n",
       "    </tr>\n",
       "    <tr>\n",
       "      <th>113325</th>\n",
       "      <td>a69ba794cc7deb415c3e15a0a3877e69</td>\n",
       "      <td>726f0894b5becdf952ea537d5266e543</td>\n",
       "      <td>unavailable</td>\n",
       "      <td>2017-08-23 16:28:04</td>\n",
       "      <td>2017-08-28 15:44:47</td>\n",
       "      <td>NaT</td>\n",
       "      <td>NaT</td>\n",
       "      <td>2017-09-15</td>\n",
       "      <td>NaN</td>\n",
       "      <td>NaN</td>\n",
       "      <td>NaN</td>\n",
       "      <td>NaN</td>\n",
       "      <td>NaN</td>\n",
       "      <td>NaN</td>\n",
       "    </tr>\n",
       "    <tr>\n",
       "      <th>113397</th>\n",
       "      <td>5fabc81b6322c8443648e1b21a6fef21</td>\n",
       "      <td>32c9df889d41b0ee8309a5efb6855dcb</td>\n",
       "      <td>unavailable</td>\n",
       "      <td>2017-10-10 10:50:03</td>\n",
       "      <td>2017-10-14 18:35:57</td>\n",
       "      <td>NaT</td>\n",
       "      <td>NaT</td>\n",
       "      <td>2017-10-23</td>\n",
       "      <td>NaN</td>\n",
       "      <td>NaN</td>\n",
       "      <td>NaN</td>\n",
       "      <td>NaN</td>\n",
       "      <td>NaN</td>\n",
       "      <td>NaN</td>\n",
       "    </tr>\n",
       "  </tbody>\n",
       "</table>\n",
       "<p>775 rows × 14 columns</p>\n",
       "</div>"
      ]
     },
     "execution_count": 53,
     "metadata": {},
     "output_type": "execute_result"
    }
   ],
   "execution_count": 53
  },
  {
   "metadata": {
    "ExecuteTime": {
     "end_time": "2024-09-09T08:50:00.381309Z",
     "start_time": "2024-09-09T08:50:00.219262Z"
    }
   },
   "cell_type": "code",
   "source": [
    "big_table = pd.merge(left=with_customers_df, right=products, on='product_id', how='inner').drop('order_status', axis=1).drop('customer_id', axis=1).drop('customer_unique_id', axis=1)\n",
    "\n"
   ],
   "id": "b90f968fd935ddc2",
   "outputs": [],
   "execution_count": 57
  },
  {
   "metadata": {
    "ExecuteTime": {
     "end_time": "2024-09-09T08:50:37.303925Z",
     "start_time": "2024-09-09T08:50:37.293637Z"
    }
   },
   "cell_type": "code",
   "source": "big_table['product_id'].isna().sum()",
   "id": "8976896e25b91f29",
   "outputs": [
    {
     "data": {
      "text/plain": [
       "np.int64(0)"
      ]
     },
     "execution_count": 59,
     "metadata": {},
     "output_type": "execute_result"
    }
   ],
   "execution_count": 59
  },
  {
   "metadata": {
    "ExecuteTime": {
     "end_time": "2024-09-09T07:50:20.761835Z",
     "start_time": "2024-09-09T07:50:20.752536Z"
    }
   },
   "cell_type": "code",
   "source": "big_table['english_category_name'].groupby(big_table['english_category_name']).count()",
   "id": "d02d27a572965409",
   "outputs": [
    {
     "name": "stderr",
     "output_type": "stream",
     "text": [
      "C:\\Users\\gabor_rabai\\AppData\\Local\\Temp\\ipykernel_30240\\2260815815.py:1: FutureWarning: The default of observed=False is deprecated and will be changed to True in a future version of pandas. Pass observed=False to retain current behavior or observed=True to adopt the future default and silence this warning.\n",
      "  big_table['english_category_name'].groupby(big_table['english_category_name']).count()\n"
     ]
    },
    {
     "data": {
      "text/plain": [
       "english_category_name\n",
       "health_beauty                 9975\n",
       "computers_accessories         8082\n",
       "auto                          4379\n",
       "bed_bath_table               11823\n",
       "furniture_decor               8744\n",
       "                             ...  \n",
       "flowers                         33\n",
       "arts_and_craftmanship           24\n",
       "diapers_and_hygiene             39\n",
       "fashion_childrens_clothes        8\n",
       "security_and_services            2\n",
       "Name: english_category_name, Length: 71, dtype: int64"
      ]
     },
     "execution_count": 34,
     "metadata": {},
     "output_type": "execute_result"
    }
   ],
   "execution_count": 34
  },
  {
   "metadata": {},
   "cell_type": "code",
   "outputs": [],
   "execution_count": null,
   "source": "big_table['seller_zip_code_prefix']",
   "id": "a5251d0351afdeb2"
  },
  {
   "metadata": {
    "ExecuteTime": {
     "end_time": "2024-09-09T06:46:38.654527Z",
     "start_time": "2024-09-09T06:46:34.844901Z"
    }
   },
   "cell_type": "code",
   "source": "big_table.to_parquet('../test_parquet/big_table_b1', partition_cols=['english_category_name')",
   "id": "ecf7c7c9a6890b8e",
   "outputs": [],
   "execution_count": 13
  },
  {
   "metadata": {},
   "cell_type": "code",
   "source": "big_table.count(numeric_only=True)",
   "id": "21bd5cee01c1f65e",
   "outputs": [],
   "execution_count": null
  },
  {
   "metadata": {},
   "cell_type": "code",
   "source": [
    "type_and_missing = pd.concat([data.isna().sum().sort_values(ascending = False), \n",
    "                              ((data.isna().sum()/data.isna().count())*100).sort_values(ascending=False), \n",
    "                              data.dtypes], axis=1, keys=['Total', 'Missing_%','Type'])\n",
    "type_and_missing[type_and_missing['Total'] > 0]"
   ],
   "id": "32b2e0c44f93c553",
   "outputs": [],
   "execution_count": null
  },
  {
   "metadata": {},
   "cell_type": "code",
   "source": "df = pd.DataFrame(data)",
   "id": "2ed839b76a3fdc82",
   "outputs": [],
   "execution_count": null
  },
  {
   "metadata": {},
   "cell_type": "code",
   "source": "display(df)",
   "id": "a9bfe932a84d333",
   "outputs": [],
   "execution_count": null
  }
 ],
 "metadata": {
  "kernelspec": {
   "display_name": "Python 3",
   "language": "python",
   "name": "python3"
  },
  "language_info": {
   "codemirror_mode": {
    "name": "ipython",
    "version": 2
   },
   "file_extension": ".py",
   "mimetype": "text/x-python",
   "name": "python",
   "nbconvert_exporter": "python",
   "pygments_lexer": "ipython2",
   "version": "2.7.6"
  }
 },
 "nbformat": 4,
 "nbformat_minor": 5
}
